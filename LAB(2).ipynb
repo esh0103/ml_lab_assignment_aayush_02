{
  "nbformat": 4,
  "nbformat_minor": 0,
  "metadata": {
    "colab": {
      "name": "MLLAB.ipynb",
      "provenance": []
    },
    "kernelspec": {
      "name": "python3",
      "display_name": "Python 3"
    },
    "language_info": {
      "name": "python"
    }
  },
  "cells": [
    {
      "cell_type": "code",
      "execution_count": 9,
      "metadata": {
        "colab": {
          "base_uri": "https://localhost:8080/"
        },
        "id": "k_DLuz6ls5Xc",
        "outputId": "a6891f92-77fd-45f4-9214-cb82b0ae49e0"
      },
      "outputs": [
        {
          "output_type": "stream",
          "name": "stdout",
          "text": [
            "[[1 2 3 4]\n",
            " [5 2 4 2]\n",
            " [1 2 0 1]]\n",
            "[[[1 2 3]\n",
            "  [4 5 2]]\n",
            "\n",
            " [[4 2 1]\n",
            "  [2 0 1]]]\n",
            "[1 2 3 4 5 6]\n",
            "[4 5 6 7 8 9]\n"
          ]
        }
      ],
      "source": [
        "import numpy as np\n",
        "\n",
        "#Array Creation \n",
        "a = np.array([[1, 2, 3, 4],\n",
        "\t\t\t\t[5, 2, 4, 2],\n",
        "\t\t\t\t[1, 2, 0, 1]])\n",
        "print(a)\n",
        "\n",
        "#reshape \n",
        "newArr = a.reshape(2,2,3)\n",
        "print(newArr)\n",
        "\n",
        "#flatten\n",
        "arr = np.array([[1, 2, 3], [4, 5, 6]])\n",
        "flarr = arr.flatten()\n",
        "print(flarr)\n",
        "\n",
        "#Arrange\n",
        "print(np.arange(4, 10))\n"
      ]
    }
  ]
}